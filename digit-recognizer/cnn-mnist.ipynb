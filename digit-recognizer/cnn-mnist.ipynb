{
  "nbformat": 4,
  "nbformat_minor": 0,
  "metadata": {
    "colab": {
      "name": "Untitled3.ipynb",
      "version": "0.3.2",
      "provenance": [],
      "include_colab_link": true
    },
    "kernelspec": {
      "name": "python3",
      "display_name": "Python 3"
    }
  },
  "cells": [
    {
      "cell_type": "markdown",
      "metadata": {
        "id": "view-in-github",
        "colab_type": "text"
      },
      "source": [
        "<a href=\"https://colab.research.google.com/github/leovcunha/kaggle-solutions/blob/master/digit-recognizer/cnn-mnist.ipynb\" target=\"_parent\"><img src=\"https://colab.research.google.com/assets/colab-badge.svg\" alt=\"Open In Colab\"/></a>"
      ]
    },
    {
      "cell_type": "code",
      "metadata": {
        "id": "-0NyXV3Yil4h",
        "colab_type": "code",
        "colab": {}
      },
      "source": [
        "import numpy as np\n",
        "import pandas as pd\n",
        "import seaborn as sns; sns.set()\n",
        "import matplotlib.pyplot as plt\n",
        "from __future__ import absolute_import, division, print_function, unicode_literals"
      ],
      "execution_count": 0,
      "outputs": []
    },
    {
      "cell_type": "code",
      "metadata": {
        "id": "QWZ4wcKulPAX",
        "colab_type": "code",
        "outputId": "2fb9b291-0451-4421-ec8d-58e15c3a8598",
        "colab": {
          "base_uri": "https://localhost:8080/",
          "height": 85
        }
      },
      "source": [
        "!pip install -q tensorflow==2.0.0-alpha0"
      ],
      "execution_count": 0,
      "outputs": [
        {
          "output_type": "stream",
          "text": [
            "\u001b[K     |████████████████████████████████| 79.9MB 366kB/s \n",
            "\u001b[K     |████████████████████████████████| 3.0MB 37.3MB/s \n",
            "\u001b[K     |████████████████████████████████| 419kB 48.4MB/s \n",
            "\u001b[K     |████████████████████████████████| 61kB 23.5MB/s \n",
            "\u001b[?25h"
          ],
          "name": "stdout"
        }
      ]
    },
    {
      "cell_type": "code",
      "metadata": {
        "id": "kOsC08F4leFY",
        "colab_type": "code",
        "colab": {}
      },
      "source": [
        "import tensorflow as tf\n",
        "from tensorflow.keras import datasets, layers, models"
      ],
      "execution_count": 0,
      "outputs": []
    },
    {
      "cell_type": "code",
      "metadata": {
        "id": "yCqmBFj5lp7P",
        "colab_type": "code",
        "colab": {}
      },
      "source": [
        "digits = pd.read_csv(\"https://raw.githubusercontent.com/leovcunha/kaggle-solutions/master/digit-recognizer/data/train.csv\")\n",
        "x_test"
      ],
      "execution_count": 0,
      "outputs": []
    },
    {
      "cell_type": "code",
      "metadata": {
        "id": "0bHWRvENmm6Q",
        "colab_type": "code",
        "outputId": "5c7a39ac-24f5-477c-d9a3-2729ddcd5dbf",
        "colab": {
          "base_uri": "https://localhost:8080/",
          "height": 204
        }
      },
      "source": [
        "y_train = digits['label']\n",
        "print(y_train.head(10))"
      ],
      "execution_count": 0,
      "outputs": [
        {
          "output_type": "stream",
          "text": [
            "0    1\n",
            "1    0\n",
            "2    1\n",
            "3    4\n",
            "4    0\n",
            "5    0\n",
            "6    7\n",
            "7    3\n",
            "8    5\n",
            "9    3\n",
            "Name: label, dtype: int64\n"
          ],
          "name": "stdout"
        }
      ]
    },
    {
      "cell_type": "code",
      "metadata": {
        "id": "jed6eApcnY-6",
        "colab_type": "code",
        "colab": {}
      },
      "source": [
        "x_train = digits.drop('label', axis=1)\n",
        "x_test = pd.read_csv(\"https://raw.githubusercontent.com/leovcunha/kaggle-solutions/master/digit-recognizer/data/test.csv\")"
      ],
      "execution_count": 0,
      "outputs": []
    },
    {
      "cell_type": "code",
      "metadata": {
        "id": "dS4_ArDWojAH",
        "colab_type": "code",
        "colab": {}
      },
      "source": [
        "x_train = x_train.values/255\n",
        "x_test = x_test.values/255"
      ],
      "execution_count": 0,
      "outputs": []
    },
    {
      "cell_type": "code",
      "metadata": {
        "id": "oin6b20jp0F2",
        "colab_type": "code",
        "colab": {}
      },
      "source": [
        "x_train = x_train.reshape((-1, 28, 28, 1))\n",
        "x_test = x_train.reshape((-1, 28, 28, 1))"
      ],
      "execution_count": 0,
      "outputs": []
    },
    {
      "cell_type": "code",
      "metadata": {
        "id": "_36DdInrqwIf",
        "colab_type": "code",
        "outputId": "6af42cd9-683c-49ba-c78f-64cd3a78084f",
        "colab": {
          "base_uri": "https://localhost:8080/",
          "height": 291
        }
      },
      "source": [
        "plt.imshow(x_train[10][:,:,0])"
      ],
      "execution_count": 0,
      "outputs": [
        {
          "output_type": "execute_result",
          "data": {
            "text/plain": [
              "<matplotlib.image.AxesImage at 0x7fb86e2b6240>"
            ]
          },
          "metadata": {
            "tags": []
          },
          "execution_count": 35
        },
        {
          "output_type": "display_data",
          "data": {
            "image/png": "[encoded data removed]",
            "text/plain": [
              "<Figure size 432x288 with 1 Axes>"
            ]
          },
          "metadata": {
            "tags": []
          }
        }
      ]
    },
    {
      "cell_type": "code",
      "metadata": {
        "id": "Ja6ZhSlvrrlp",
        "colab_type": "code",
        "colab": {}
      },
      "source": [
        "y_train = tf.keras.utils.to_categorical(y_train, num_classes = 10)"
      ],
      "execution_count": 0,
      "outputs": []
    },
    {
      "cell_type": "code",
      "metadata": {
        "id": "RP-bnvLPtaAu",
        "colab_type": "code",
        "colab": {}
      },
      "source": [
        "model = models.Sequential()\n",
        "model.add(layers.Conv2D(32, (3, 3), activation='relu', input_shape=(28, 28, 1)))\n",
        "model.add(layers.MaxPooling2D((2, 2)))\n",
        "model.add(layers.Conv2D(64, (3, 3), activation='relu'))\n",
        "model.add(layers.MaxPooling2D((2, 2)))\n",
        "model.add(layers.Conv2D(64, (3, 3), activation='relu'))\n",
        "model.add(layers.Flatten())\n",
        "model.add(layers.Dense(64, activation='relu'))\n",
        "model.add(layers.Dense(10, activation='softmax'))"
      ],
      "execution_count": 0,
      "outputs": []
    },
    {
      "cell_type": "code",
      "metadata": {
        "id": "LeUPKeCpt_gG",
        "colab_type": "code",
        "outputId": "795b89e6-a9e4-4c13-f4ed-d0a3d2623102",
        "colab": {
          "base_uri": "https://localhost:8080/",
          "height": 425
        }
      },
      "source": [
        "model.summary()"
      ],
      "execution_count": 0,
      "outputs": [
        {
          "output_type": "stream",
          "text": [
            "Model: \"sequential_1\"\n",
            "_________________________________________________________________\n",
            "Layer (type)                 Output Shape              Param #   \n",
            "=================================================================\n",
            "conv2d_3 (Conv2D)            (None, 26, 26, 32)        320       \n",
            "_________________________________________________________________\n",
            "max_pooling2d_2 (MaxPooling2 (None, 13, 13, 32)        0         \n",
            "_________________________________________________________________\n",
            "conv2d_4 (Conv2D)            (None, 11, 11, 64)        18496     \n",
            "_________________________________________________________________\n",
            "max_pooling2d_3 (MaxPooling2 (None, 5, 5, 64)          0         \n",
            "_________________________________________________________________\n",
            "conv2d_5 (Conv2D)            (None, 3, 3, 64)          36928     \n",
            "_________________________________________________________________\n",
            "flatten (Flatten)            (None, 576)               0         \n",
            "_________________________________________________________________\n",
            "dense (Dense)                (None, 64)                36928     \n",
            "_________________________________________________________________\n",
            "dense_1 (Dense)              (None, 10)                650       \n",
            "=================================================================\n",
            "Total params: 93,322\n",
            "Trainable params: 93,322\n",
            "Non-trainable params: 0\n",
            "_________________________________________________________________\n"
          ],
          "name": "stdout"
        }
      ]
    },
    {
      "cell_type": "code",
      "metadata": {
        "id": "9yZ64SgPvYpx",
        "colab_type": "code",
        "outputId": "006284aa-7e1c-4d14-db05-374d09e3c3f1",
        "colab": {
          "base_uri": "https://localhost:8080/",
          "height": 34
        }
      },
      "source": [
        "y_train.shape"
      ],
      "execution_count": 0,
      "outputs": [
        {
          "output_type": "execute_result",
          "data": {
            "text/plain": [
              "(42000, 10)"
            ]
          },
          "metadata": {
            "tags": []
          },
          "execution_count": 45
        }
      ]
    },
    {
      "cell_type": "code",
      "metadata": {
        "id": "xX9Urx-Lucg1",
        "colab_type": "code",
        "outputId": "ed19baf1-30b9-49c9-ec8b-3223d98f8aef",
        "colab": {
          "base_uri": "https://localhost:8080/",
          "height": 1054
        }
      },
      "source": [
        "model.compile(optimizer='adam',\n",
        "              loss='sparse_categorical_crossentropy',\n",
        "              metrics=['accuracy'])\n",
        "\n",
        "model.fit(x_train, y_train, epochs=30)"
      ],
      "execution_count": 0,
      "outputs": [
        {
          "output_type": "stream",
          "text": [
            "Epoch 1/30\n",
            "42000/42000 [==============================] - 40s 959us/sample - loss: 0.1663 - accuracy: 0.9472\n",
            "Epoch 2/30\n",
            "42000/42000 [==============================] - 40s 955us/sample - loss: 0.0528 - accuracy: 0.9841\n",
            "Epoch 3/30\n",
            "42000/42000 [==============================] - 40s 962us/sample - loss: 0.0369 - accuracy: 0.9881\n",
            "Epoch 4/30\n",
            "42000/42000 [==============================] - 40s 944us/sample - loss: 0.0287 - accuracy: 0.9908\n",
            "Epoch 5/30\n",
            "42000/42000 [==============================] - 40s 943us/sample - loss: 0.0230 - accuracy: 0.9925\n",
            "Epoch 6/30\n",
            "42000/42000 [==============================] - 39s 939us/sample - loss: 0.0196 - accuracy: 0.9938\n",
            "Epoch 7/30\n",
            "42000/42000 [==============================] - 39s 939us/sample - loss: 0.0160 - accuracy: 0.9950\n",
            "Epoch 8/30\n",
            "42000/42000 [==============================] - 40s 941us/sample - loss: 0.0133 - accuracy: 0.9957\n",
            "Epoch 9/30\n",
            "42000/42000 [==============================] - 39s 936us/sample - loss: 0.0123 - accuracy: 0.9960\n",
            "Epoch 10/30\n",
            "42000/42000 [==============================] - 40s 947us/sample - loss: 0.0112 - accuracy: 0.9960\n",
            "Epoch 11/30\n",
            "42000/42000 [==============================] - 40s 945us/sample - loss: 0.0081 - accuracy: 0.9972\n",
            "Epoch 12/30\n",
            "42000/42000 [==============================] - 39s 938us/sample - loss: 0.0086 - accuracy: 0.9969\n",
            "Epoch 13/30\n",
            "42000/42000 [==============================] - 39s 931us/sample - loss: 0.0076 - accuracy: 0.9975\n",
            "Epoch 14/30\n",
            "42000/42000 [==============================] - 39s 935us/sample - loss: 0.0067 - accuracy: 0.9979\n",
            "Epoch 15/30\n",
            "42000/42000 [==============================] - 40s 942us/sample - loss: 0.0074 - accuracy: 0.9974\n",
            "Epoch 16/30\n",
            "42000/42000 [==============================] - 39s 940us/sample - loss: 0.0070 - accuracy: 0.9977\n",
            "Epoch 17/30\n",
            "42000/42000 [==============================] - 40s 944us/sample - loss: 0.0055 - accuracy: 0.9983\n",
            "Epoch 18/30\n",
            "42000/42000 [==============================] - 39s 934us/sample - loss: 0.0053 - accuracy: 0.9984\n",
            "Epoch 19/30\n",
            "42000/42000 [==============================] - 39s 938us/sample - loss: 0.0059 - accuracy: 0.9983\n",
            "Epoch 20/30\n",
            "42000/42000 [==============================] - 39s 926us/sample - loss: 0.0053 - accuracy: 0.9982\n",
            "Epoch 21/30\n",
            "42000/42000 [==============================] - 39s 927us/sample - loss: 0.0040 - accuracy: 0.9989\n",
            "Epoch 22/30\n",
            "42000/42000 [==============================] - 39s 927us/sample - loss: 0.0056 - accuracy: 0.9983\n",
            "Epoch 23/30\n",
            "42000/42000 [==============================] - 39s 927us/sample - loss: 0.0062 - accuracy: 0.9981\n",
            "Epoch 24/30\n",
            "42000/42000 [==============================] - 39s 925us/sample - loss: 0.0026 - accuracy: 0.9992\n",
            "Epoch 25/30\n",
            "42000/42000 [==============================] - 39s 926us/sample - loss: 0.0035 - accuracy: 0.9989\n",
            "Epoch 26/30\n",
            "42000/42000 [==============================] - 39s 926us/sample - loss: 0.0072 - accuracy: 0.9977\n",
            "Epoch 27/30\n",
            "42000/42000 [==============================] - 39s 935us/sample - loss: 0.0026 - accuracy: 0.9992\n",
            "Epoch 28/30\n",
            "42000/42000 [==============================] - 39s 922us/sample - loss: 0.0058 - accuracy: 0.9985\n",
            "Epoch 29/30\n",
            "42000/42000 [==============================] - 39s 918us/sample - loss: 0.0027 - accuracy: 0.9992\n",
            "Epoch 30/30\n",
            "42000/42000 [==============================] - 39s 923us/sample - loss: 0.0054 - accuracy: 0.9984\n"
          ],
          "name": "stdout"
        },
        {
          "output_type": "execute_result",
          "data": {
            "text/plain": [
              "<tensorflow.python.keras.callbacks.History at 0x7fb8657b1748>"
            ]
          },
          "metadata": {
            "tags": []
          },
          "execution_count": 47
        }
      ]
    },
    {
      "cell_type": "code",
      "metadata": {
        "id": "sdsb6Wci0hoP",
        "colab_type": "code",
        "colab": {}
      },
      "source": [
        "results = model.predict(x_test)"
      ],
      "execution_count": 0,
      "outputs": []
    },
    {
      "cell_type": "code",
      "metadata": {
        "id": "Tdmp3S9903OT",
        "colab_type": "code",
        "colab": {}
      },
      "source": [
        "results = np.argmax(results,axis = 1)"
      ],
      "execution_count": 0,
      "outputs": []
    },
    {
      "cell_type": "code",
      "metadata": {
        "id": "QZ4Qgjl91DGF",
        "colab_type": "code",
        "colab": {}
      },
      "source": [
        "results = pd.Series(results,name=\"Label\")\n"
      ],
      "execution_count": 0,
      "outputs": []
    },
    {
      "cell_type": "code",
      "metadata": {
        "id": "pKEN-0XN1Kqk",
        "colab_type": "code",
        "colab": {}
      },
      "source": [
        "submission = pd.concat([pd.Series(range(1,28001),name = \"ImageId\"),results],axis = 1)\n",
        "submission.to_csv(\"submission.csv\",index=False)"
      ],
      "execution_count": 0,
      "outputs": []
    },
    {
      "cell_type": "code",
      "metadata": {
        "id": "eRj5cvv11ayr",
        "colab_type": "code",
        "outputId": "d3bbe336-9eb5-4d62-e2c7-a30de8ace8d8",
        "colab": {
          "base_uri": "https://localhost:8080/",
          "height": 323
        }
      },
      "source": [
        "!pip install pydrive"
      ],
      "execution_count": 0,
      "outputs": [
        {
          "output_type": "stream",
          "text": [
            "Collecting pydrive\n",
            "\u001b[?25l  Downloading https://files.pythonhosted.org/packages/52/e0/0e64788e5dd58ce2d6934549676243dc69d982f198524be9b99e9c2a4fd5/PyDrive-1.3.1.tar.gz (987kB)\n",
            "\u001b[K     |████████████████████████████████| 993kB 2.8MB/s \n",
            "\u001b[?25hRequirement already satisfied: google-api-python-client>=1.2 in /usr/local/lib/python3.6/dist-packages (from pydrive) (1.6.7)\n",
            "Requirement already satisfied: oauth2client>=4.0.0 in /usr/local/lib/python3.6/dist-packages (from pydrive) (4.1.3)\n",
            "Requirement already satisfied: PyYAML>=3.0 in /usr/local/lib/python3.6/dist-packages (from pydrive) (3.13)\n",
            "Requirement already satisfied: six<2dev,>=1.6.1 in /usr/local/lib/python3.6/dist-packages (from google-api-python-client>=1.2->pydrive) (1.12.0)\n",
            "Requirement already satisfied: uritemplate<4dev,>=3.0.0 in /usr/local/lib/python3.6/dist-packages (from google-api-python-client>=1.2->pydrive) (3.0.0)\n",
            "Requirement already satisfied: httplib2<1dev,>=0.9.2 in /usr/local/lib/python3.6/dist-packages (from google-api-python-client>=1.2->pydrive) (0.11.3)\n",
            "Requirement already satisfied: rsa>=3.1.4 in /usr/local/lib/python3.6/dist-packages (from oauth2client>=4.0.0->pydrive) (4.0)\n",
            "Requirement already satisfied: pyasn1>=0.1.7 in /usr/local/lib/python3.6/dist-packages (from oauth2client>=4.0.0->pydrive) (0.4.5)\n",
            "Requirement already satisfied: pyasn1-modules>=0.0.5 in /usr/local/lib/python3.6/dist-packages (from oauth2client>=4.0.0->pydrive) (0.2.5)\n",
            "Building wheels for collected packages: pydrive\n",
            "  Building wheel for pydrive (setup.py) ... \u001b[?25l\u001b[?25hdone\n",
            "  Stored in directory: /root/.cache/pip/wheels/fa/d2/9a/d3b6b506c2da98289e5d417215ce34b696db856643bad779f4\n",
            "Successfully built pydrive\n",
            "Installing collected packages: pydrive\n",
            "Successfully installed pydrive-1.3.1\n"
          ],
          "name": "stdout"
        }
      ]
    }
  ]
}